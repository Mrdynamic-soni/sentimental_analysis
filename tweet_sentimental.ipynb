{
 "cells": [
  {
   "cell_type": "code",
   "execution_count": 2,
   "id": "40d9ef34",
   "metadata": {},
   "outputs": [],
   "source": [
    "import GetOldTweets3 as got"
   ]
  },
  {
   "cell_type": "code",
   "execution_count": 5,
   "id": "9d3960a8",
   "metadata": {},
   "outputs": [],
   "source": [
    "def get_tweets():\n",
    "    tweetCriteria = got.manager.TweetCriteria().setQuerySearch('CoronaOutbreak') \\\n",
    "        .setSince(\"2020-01-01\") \\\n",
    "        .setUntil(\"2020-04-01\") \\\n",
    "        .setMaxTweets(1000)\n",
    "    # Creation of list that contains all tweets\n",
    "    tweets = got.manager.TweetManager.getTweets(tweetCriteria)\n",
    "    # Creating list of chosen tweet data\n",
    "    text_tweets = [[tweet.text] for tweet in tweets]\n",
    "    return text_tweets"
   ]
  },
  {
   "cell_type": "code",
   "execution_count": null,
   "id": "44486745",
   "metadata": {},
   "outputs": [],
   "source": []
  }
 ],
 "metadata": {
  "kernelspec": {
   "display_name": "Python 3 (ipykernel)",
   "language": "python",
   "name": "python3"
  },
  "language_info": {
   "codemirror_mode": {
    "name": "ipython",
    "version": 3
   },
   "file_extension": ".py",
   "mimetype": "text/x-python",
   "name": "python",
   "nbconvert_exporter": "python",
   "pygments_lexer": "ipython3",
   "version": "3.9.7"
  }
 },
 "nbformat": 4,
 "nbformat_minor": 5
}
