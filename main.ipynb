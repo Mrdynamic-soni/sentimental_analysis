{
 "cells": [
  {
   "cell_type": "code",
   "execution_count": 1,
   "id": "a4709f7c",
   "metadata": {},
   "outputs": [],
   "source": [
    "#cleanin data\n",
    "# 1.Convert eveything in small letters\n",
    "# 2.remove all punctuation marks"
   ]
  },
  {
   "cell_type": "code",
   "execution_count": 2,
   "id": "4fd34711",
   "metadata": {},
   "outputs": [
    {
     "data": {
      "text/plain": [
       "'APJ Abdul kalam came into this world on 15th October 1931, at a time when India was under British occupation. He was born to a Tamil Muslim family in Tamil Nadu. His father was a boat owner while his mother was a housewife. Furthermore, Kalam had five siblings and was the youngest of the lot.\\n\\nIn school, Kalam was an average student but was still hardworking and bright. I think this certainly is a great motivation for all the average students out there. Being average, you must never ever underestimate yourself and continue doing the hard work.\\n\\nAn Illustrious Scientist\\nIn the year 1960, APJ Abdul Kalam’s graduation took place from Madras Institute of Technology. The association of Kalam took place with the Defence Research & Development Service (DRDS). Furthermore, he joined as a scientist at the Aeronautical Development Establishment of the Defence Research and Development Organisation. These were the beginning achievements of his prestigious career as a scientist.\\n\\nBig achievement for Kalam came when he was the project director at ISRO of India‘s first-ever Satellite Launch Vehicle (SLV- III). This satellite was responsible for the deployment of the Rohini satellite in 1980. Moreover, Kalam was highly influential in the development of Polar Satellite Launch Vehicle (PSLV) and SLV projects.\\n\\nBoth projects were successful. Bringing enhancement in the reputation of Kalam. Furthermore, the development of ballistic missiles was possible because of the efforts of this man. Most noteworthy, Kalam earned the esteemed title of “The missile Man of India”.\\n\\nThe Government of India became aware of the brilliance of this man and made him the Chief Executive of the Integrated Guided Missiles Development Program (IGMDP). Furthermore, this program was responsible for the research and development of Missiles. The achievements of this distinguished man didn’t stop there.\\n\\nMore success was to come in the form of Agni and Prithvi missiles. Once again, Kalam was influential in the developments of these missiles. It was during his tenure in IGMDP that Kalam played an instrumental role in the developments of missiles like Agni and Prithvi. Moreover, Kamal was a key figure in the Pokhran II nuclear test.'"
      ]
     },
     "execution_count": 2,
     "metadata": {},
     "output_type": "execute_result"
    }
   ],
   "source": [
    "#reading file\n",
    "text = open(\"data.txt\",\"r\",encoding = \"utf-8\").read()\n",
    "text"
   ]
  },
  {
   "cell_type": "code",
   "execution_count": 3,
   "id": "b9cfc1bc",
   "metadata": {},
   "outputs": [
    {
     "data": {
      "text/plain": [
       "'apj abdul kalam came into this world on 15th october 1931, at a time when india was under british occupation. he was born to a tamil muslim family in tamil nadu. his father was a boat owner while his mother was a housewife. furthermore, kalam had five siblings and was the youngest of the lot.\\n\\nin school, kalam was an average student but was still hardworking and bright. i think this certainly is a great motivation for all the average students out there. being average, you must never ever underestimate yourself and continue doing the hard work.\\n\\nan illustrious scientist\\nin the year 1960, apj abdul kalam’s graduation took place from madras institute of technology. the association of kalam took place with the defence research & development service (drds). furthermore, he joined as a scientist at the aeronautical development establishment of the defence research and development organisation. these were the beginning achievements of his prestigious career as a scientist.\\n\\nbig achievement for kalam came when he was the project director at isro of india‘s first-ever satellite launch vehicle (slv- iii). this satellite was responsible for the deployment of the rohini satellite in 1980. moreover, kalam was highly influential in the development of polar satellite launch vehicle (pslv) and slv projects.\\n\\nboth projects were successful. bringing enhancement in the reputation of kalam. furthermore, the development of ballistic missiles was possible because of the efforts of this man. most noteworthy, kalam earned the esteemed title of “the missile man of india”.\\n\\nthe government of india became aware of the brilliance of this man and made him the chief executive of the integrated guided missiles development program (igmdp). furthermore, this program was responsible for the research and development of missiles. the achievements of this distinguished man didn’t stop there.\\n\\nmore success was to come in the form of agni and prithvi missiles. once again, kalam was influential in the developments of these missiles. it was during his tenure in igmdp that kalam played an instrumental role in the developments of missiles like agni and prithvi. moreover, kamal was a key figure in the pokhran ii nuclear test.'"
      ]
     },
     "execution_count": 3,
     "metadata": {},
     "output_type": "execute_result"
    }
   ],
   "source": [
    "#converting everything in smaller case\n",
    "text = text.lower()\n",
    "text"
   ]
  },
  {
   "cell_type": "code",
   "execution_count": 12,
   "id": "03ff9859",
   "metadata": {},
   "outputs": [
    {
     "data": {
      "text/plain": [
       "'apj abdul kalam came into this world on 15th october 1931 at a time when india was under british occupation he was born to a tamil muslim family in tamil nadu his father was a boat owner while his mother was a housewife furthermore kalam had five siblings and was the youngest of the lot\\n\\nin school kalam was an average student but was still hardworking and bright i think this certainly is a great motivation for all the average students out there being average you must never ever underestimate yourself and continue doing the hard work\\n\\nan illustrious scientist\\nin the year 1960 apj abdul kalam’s graduation took place from madras institute of technology the association of kalam took place with the defence research  development service drds furthermore he joined as a scientist at the aeronautical development establishment of the defence research and development organisation these were the beginning achievements of his prestigious career as a scientist\\n\\nbig achievement for kalam came when he was the project director at isro of india‘s firstever satellite launch vehicle slv iii this satellite was responsible for the deployment of the rohini satellite in 1980 moreover kalam was highly influential in the development of polar satellite launch vehicle pslv and slv projects\\n\\nboth projects were successful bringing enhancement in the reputation of kalam furthermore the development of ballistic missiles was possible because of the efforts of this man most noteworthy kalam earned the esteemed title of “the missile man of india”\\n\\nthe government of india became aware of the brilliance of this man and made him the chief executive of the integrated guided missiles development program igmdp furthermore this program was responsible for the research and development of missiles the achievements of this distinguished man didn’t stop there\\n\\nmore success was to come in the form of agni and prithvi missiles once again kalam was influential in the developments of these missiles it was during his tenure in igmdp that kalam played an instrumental role in the developments of missiles like agni and prithvi moreover kamal was a key figure in the pokhran ii nuclear test'"
      ]
     },
     "execution_count": 12,
     "metadata": {},
     "output_type": "execute_result"
    }
   ],
   "source": [
    "# remove punctuation\n",
    "import string\n",
    "# string.punctuation\n",
    "cleaned_text = text.translate(str.maketrans(\"\",\"\",string.punctuation))\n",
    "cleaned_text"
   ]
  },
  {
   "cell_type": "code",
   "execution_count": 18,
   "id": "e3db98f4",
   "metadata": {},
   "outputs": [
    {
     "data": {
      "text/plain": [
       "353"
      ]
     },
     "execution_count": 18,
     "metadata": {},
     "output_type": "execute_result"
    }
   ],
   "source": [
    "#tokenization\n",
    "tokan_word = cleaned_text.split()\n",
    "# tokan_word\n",
    "len(tokan_word)"
   ]
  },
  {
   "cell_type": "code",
   "execution_count": 19,
   "id": "af782931",
   "metadata": {},
   "outputs": [
    {
     "data": {
      "text/plain": [
       "196"
      ]
     },
     "execution_count": 19,
     "metadata": {},
     "output_type": "execute_result"
    }
   ],
   "source": [
    "stop_words =  [\"i\", \"me\", \"my\", \"myself\", \"we\", \"our\", \"ours\", \"ourselves\", \"you\", \"your\", \"yours\", \"yourself\",\n",
    "              \"yourselves\", \"he\", \"him\", \"his\", \"himself\", \"she\", \"her\", \"hers\", \"herself\", \"it\", \"its\", \"itself\",\n",
    "              \"they\", \"them\", \"their\", \"theirs\", \"themselves\", \"what\", \"which\", \"who\", \"whom\", \"this\", \"that\", \"these\",\n",
    "              \"those\", \"am\", \"is\", \"are\", \"was\", \"were\", \"be\", \"been\", \"being\", \"have\", \"has\", \"had\", \"having\", \"do\",\n",
    "              \"does\", \"did\", \"doing\", \"a\", \"an\", \"the\", \"and\", \"but\", \"if\", \"or\", \"because\", \"as\", \"until\", \"while\",\n",
    "              \"of\", \"at\", \"by\", \"for\", \"with\", \"about\", \"against\", \"between\", \"into\", \"through\", \"during\", \"before\",\n",
    "              \"after\", \"above\", \"below\", \"to\", \"from\", \"up\", \"down\", \"in\", \"out\", \"on\", \"off\", \"over\", \"under\", \"again\",\n",
    "              \"further\", \"then\", \"once\", \"here\", \"there\", \"when\", \"where\", \"why\", \"how\", \"all\", \"any\", \"both\", \"each\",\n",
    "              \"few\", \"more\", \"most\", \"other\", \"some\", \"such\", \"no\", \"nor\", \"not\", \"only\", \"own\", \"same\", \"so\", \"than\",\n",
    "              \"too\", \"very\", \"s\", \"t\", \"can\", \"will\", \"just\", \"don\", \"should\", \"now\"]\n",
    "final_word = []\n",
    "for word in tokan_word:\n",
    "    if word not in stop_words:\n",
    "        final_word.append(word)\n",
    "len(final_word)"
   ]
  },
  {
   "cell_type": "code",
   "execution_count": 30,
   "id": "1f7b9f00",
   "metadata": {},
   "outputs": [
    {
     "data": {
      "text/plain": [
       "{'': '',\n",
       " \"'\": '',\n",
       " 'v': '',\n",
       " 'i': '',\n",
       " 'c': '',\n",
       " 't': '',\n",
       " 'm': '',\n",
       " 'z': '',\n",
       " 'e': '',\n",
       " 'd': '',\n",
       " ':': '',\n",
       " 'h': '',\n",
       " 'a': '',\n",
       " ',': '',\n",
       " 'u': '',\n",
       " 's': '',\n",
       " 'q': '',\n",
       " 'n': '',\n",
       " 'g': '',\n",
       " 'l': '',\n",
       " 'o': '',\n",
       " 'r': '',\n",
       " 'b': '',\n",
       " 'f': '',\n",
       " 'p': '',\n",
       " 'y': '',\n",
       " 'x': '',\n",
       " 'w': '',\n",
       " 'k': '',\n",
       " '-': '',\n",
       " 'j': '',\n",
       " '&': ''}"
      ]
     },
     "execution_count": 30,
     "metadata": {},
     "output_type": "execute_result"
    }
   ],
   "source": [
    "#nlp emotion algorithm \n",
    "# check word is in  emotion.txt\n",
    "# add the word in emotion list \n",
    "file = open(\"emotion.txt\",\"r\")\n",
    "# print(file.read())\n",
    "emotion_word={}\n",
    "for line in file.read():\n",
    "        key,value = line.partition(\"=\")[::2]\n",
    "        emotion_word[key.strip()] = value\n",
    "emotion_word"
   ]
  },
  {
   "cell_type": "code",
   "execution_count": null,
   "id": "da45c517",
   "metadata": {},
   "outputs": [],
   "source": []
  }
 ],
 "metadata": {
  "kernelspec": {
   "display_name": "Python 3 (ipykernel)",
   "language": "python",
   "name": "python3"
  },
  "language_info": {
   "codemirror_mode": {
    "name": "ipython",
    "version": 3
   },
   "file_extension": ".py",
   "mimetype": "text/x-python",
   "name": "python",
   "nbconvert_exporter": "python",
   "pygments_lexer": "ipython3",
   "version": "3.9.7"
  }
 },
 "nbformat": 4,
 "nbformat_minor": 5
}
