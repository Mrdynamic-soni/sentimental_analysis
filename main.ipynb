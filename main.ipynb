{
 "cells": [
  {
   "cell_type": "code",
   "execution_count": 1,
   "id": "a4709f7c",
   "metadata": {},
   "outputs": [],
   "source": [
    "#cleanin data\n",
    "# 1.Convert eveything in small letters\n",
    "# 2.remove all punctuation marks"
   ]
  },
  {
   "cell_type": "code",
   "execution_count": 2,
   "id": "4fd34711",
   "metadata": {},
   "outputs": [
    {
     "data": {
      "text/plain": [
       "'APJ Abdul kalam came into this world on 15th October 1931, at a time when India was under British occupation. He was born to a Tamil Muslim family in Tamil Nadu. His father was a boat owner while his mother was a housewife. Furthermore, Kalam had five siblings and was the youngest of the lot.\\n\\nIn school, Kalam was an average student but was still hardworking and bright. I think this certainly is a great motivation for all the average students out there. Being average, you must never ever underestimate yourself and continue doing the hard work.\\n\\nAn Illustrious Scientist\\nIn the year 1960, APJ Abdul Kalam’s graduation took place from Madras Institute of Technology. The association of Kalam took place with the Defence Research & Development Service (DRDS). Furthermore, he joined as a scientist at the Aeronautical Development Establishment of the Defence Research and Development Organisation. These were the beginning achievements of his prestigious career as a scientist.\\n\\nBig achievement for Kalam came when he was the project director at ISRO of India‘s first-ever Satellite Launch Vehicle (SLV- III). This satellite was responsible for the deployment of the Rohini satellite in 1980. Moreover, Kalam was highly influential in the development of Polar Satellite Launch Vehicle (PSLV) and SLV projects.\\n\\nBoth projects were successful. Bringing enhancement in the reputation of Kalam. Furthermore, the development of ballistic missiles was possible because of the efforts of this man. Most noteworthy, Kalam earned the esteemed title of “The missile Man of India”.\\n\\nThe Government of India became aware of the brilliance of this man and made him the Chief Executive of the Integrated Guided Missiles Development Program (IGMDP). Furthermore, this program was responsible for the research and development of Missiles. The achievements of this distinguished man didn’t stop there.\\n\\nMore success was to come in the form of Agni and Prithvi missiles. Once again, Kalam was influential in the developments of these missiles. It was during his tenure in IGMDP that Kalam played an instrumental role in the developments of missiles like Agni and Prithvi. Moreover, Kamal was a key figure in the Pokhran II nuclear test.'"
      ]
     },
     "execution_count": 2,
     "metadata": {},
     "output_type": "execute_result"
    }
   ],
   "source": [
    "#reading file\n",
    "text = open(\"data.txt\",\"r\",encoding = \"utf-8\").read()\n",
    "text"
   ]
  },
  {
   "cell_type": "code",
   "execution_count": 3,
   "id": "b9cfc1bc",
   "metadata": {},
   "outputs": [
    {
     "data": {
      "text/plain": [
       "'apj abdul kalam came into this world on 15th october 1931, at a time when india was under british occupation. he was born to a tamil muslim family in tamil nadu. his father was a boat owner while his mother was a housewife. furthermore, kalam had five siblings and was the youngest of the lot.\\n\\nin school, kalam was an average student but was still hardworking and bright. i think this certainly is a great motivation for all the average students out there. being average, you must never ever underestimate yourself and continue doing the hard work.\\n\\nan illustrious scientist\\nin the year 1960, apj abdul kalam’s graduation took place from madras institute of technology. the association of kalam took place with the defence research & development service (drds). furthermore, he joined as a scientist at the aeronautical development establishment of the defence research and development organisation. these were the beginning achievements of his prestigious career as a scientist.\\n\\nbig achievement for kalam came when he was the project director at isro of india‘s first-ever satellite launch vehicle (slv- iii). this satellite was responsible for the deployment of the rohini satellite in 1980. moreover, kalam was highly influential in the development of polar satellite launch vehicle (pslv) and slv projects.\\n\\nboth projects were successful. bringing enhancement in the reputation of kalam. furthermore, the development of ballistic missiles was possible because of the efforts of this man. most noteworthy, kalam earned the esteemed title of “the missile man of india”.\\n\\nthe government of india became aware of the brilliance of this man and made him the chief executive of the integrated guided missiles development program (igmdp). furthermore, this program was responsible for the research and development of missiles. the achievements of this distinguished man didn’t stop there.\\n\\nmore success was to come in the form of agni and prithvi missiles. once again, kalam was influential in the developments of these missiles. it was during his tenure in igmdp that kalam played an instrumental role in the developments of missiles like agni and prithvi. moreover, kamal was a key figure in the pokhran ii nuclear test.'"
      ]
     },
     "execution_count": 3,
     "metadata": {},
     "output_type": "execute_result"
    }
   ],
   "source": [
    "#converting everything in smaller case\n",
    "text = text.lower()\n",
    "text"
   ]
  },
  {
   "cell_type": "code",
   "execution_count": 4,
   "id": "03ff9859",
   "metadata": {},
   "outputs": [
    {
     "data": {
      "text/plain": [
       "'apj abdul kalam came into this world on 15th october 1931 at a time when india was under british occupation he was born to a tamil muslim family in tamil nadu his father was a boat owner while his mother was a housewife furthermore kalam had five siblings and was the youngest of the lot\\n\\nin school kalam was an average student but was still hardworking and bright i think this certainly is a great motivation for all the average students out there being average you must never ever underestimate yourself and continue doing the hard work\\n\\nan illustrious scientist\\nin the year 1960 apj abdul kalam’s graduation took place from madras institute of technology the association of kalam took place with the defence research  development service drds furthermore he joined as a scientist at the aeronautical development establishment of the defence research and development organisation these were the beginning achievements of his prestigious career as a scientist\\n\\nbig achievement for kalam came when he was the project director at isro of india‘s firstever satellite launch vehicle slv iii this satellite was responsible for the deployment of the rohini satellite in 1980 moreover kalam was highly influential in the development of polar satellite launch vehicle pslv and slv projects\\n\\nboth projects were successful bringing enhancement in the reputation of kalam furthermore the development of ballistic missiles was possible because of the efforts of this man most noteworthy kalam earned the esteemed title of “the missile man of india”\\n\\nthe government of india became aware of the brilliance of this man and made him the chief executive of the integrated guided missiles development program igmdp furthermore this program was responsible for the research and development of missiles the achievements of this distinguished man didn’t stop there\\n\\nmore success was to come in the form of agni and prithvi missiles once again kalam was influential in the developments of these missiles it was during his tenure in igmdp that kalam played an instrumental role in the developments of missiles like agni and prithvi moreover kamal was a key figure in the pokhran ii nuclear test'"
      ]
     },
     "execution_count": 4,
     "metadata": {},
     "output_type": "execute_result"
    }
   ],
   "source": [
    "# remove punctuation\n",
    "import string\n",
    "# string.punctuation\n",
    "cleaned_text = text.translate(str.maketrans(\"\",\"\",string.punctuation))\n",
    "cleaned_text"
   ]
  },
  {
   "cell_type": "code",
   "execution_count": 5,
   "id": "e3db98f4",
   "metadata": {},
   "outputs": [
    {
     "data": {
      "text/plain": [
       "353"
      ]
     },
     "execution_count": 5,
     "metadata": {},
     "output_type": "execute_result"
    }
   ],
   "source": [
    "#tokenization\n",
    "tokan_word = cleaned_text.split()\n",
    "# tokan_word\n",
    "len(tokan_word)"
   ]
  },
  {
   "cell_type": "code",
   "execution_count": 6,
   "id": "af782931",
   "metadata": {},
   "outputs": [
    {
     "data": {
      "text/plain": [
       "['apj',\n",
       " 'abdul',\n",
       " 'kalam',\n",
       " 'came',\n",
       " 'world',\n",
       " '15th',\n",
       " 'october',\n",
       " '1931',\n",
       " 'time',\n",
       " 'india',\n",
       " 'british',\n",
       " 'occupation',\n",
       " 'born',\n",
       " 'tamil',\n",
       " 'muslim',\n",
       " 'family',\n",
       " 'tamil',\n",
       " 'nadu',\n",
       " 'father',\n",
       " 'boat',\n",
       " 'owner',\n",
       " 'mother',\n",
       " 'housewife',\n",
       " 'furthermore',\n",
       " 'kalam',\n",
       " 'five',\n",
       " 'siblings',\n",
       " 'youngest',\n",
       " 'lot',\n",
       " 'school',\n",
       " 'kalam',\n",
       " 'average',\n",
       " 'student',\n",
       " 'still',\n",
       " 'hardworking',\n",
       " 'bright',\n",
       " 'think',\n",
       " 'certainly',\n",
       " 'great',\n",
       " 'motivation',\n",
       " 'average',\n",
       " 'students',\n",
       " 'average',\n",
       " 'must',\n",
       " 'never',\n",
       " 'ever',\n",
       " 'underestimate',\n",
       " 'continue',\n",
       " 'hard',\n",
       " 'work',\n",
       " 'illustrious',\n",
       " 'scientist',\n",
       " 'year',\n",
       " '1960',\n",
       " 'apj',\n",
       " 'abdul',\n",
       " 'kalam’s',\n",
       " 'graduation',\n",
       " 'took',\n",
       " 'place',\n",
       " 'madras',\n",
       " 'institute',\n",
       " 'technology',\n",
       " 'association',\n",
       " 'kalam',\n",
       " 'took',\n",
       " 'place',\n",
       " 'defence',\n",
       " 'research',\n",
       " 'development',\n",
       " 'service',\n",
       " 'drds',\n",
       " 'furthermore',\n",
       " 'joined',\n",
       " 'scientist',\n",
       " 'aeronautical',\n",
       " 'development',\n",
       " 'establishment',\n",
       " 'defence',\n",
       " 'research',\n",
       " 'development',\n",
       " 'organisation',\n",
       " 'beginning',\n",
       " 'achievements',\n",
       " 'prestigious',\n",
       " 'career',\n",
       " 'scientist',\n",
       " 'big',\n",
       " 'achievement',\n",
       " 'kalam',\n",
       " 'came',\n",
       " 'project',\n",
       " 'director',\n",
       " 'isro',\n",
       " 'india‘s',\n",
       " 'firstever',\n",
       " 'satellite',\n",
       " 'launch',\n",
       " 'vehicle',\n",
       " 'slv',\n",
       " 'iii',\n",
       " 'satellite',\n",
       " 'responsible',\n",
       " 'deployment',\n",
       " 'rohini',\n",
       " 'satellite',\n",
       " '1980',\n",
       " 'moreover',\n",
       " 'kalam',\n",
       " 'highly',\n",
       " 'influential',\n",
       " 'development',\n",
       " 'polar',\n",
       " 'satellite',\n",
       " 'launch',\n",
       " 'vehicle',\n",
       " 'pslv',\n",
       " 'slv',\n",
       " 'projects',\n",
       " 'projects',\n",
       " 'successful',\n",
       " 'bringing',\n",
       " 'enhancement',\n",
       " 'reputation',\n",
       " 'kalam',\n",
       " 'furthermore',\n",
       " 'development',\n",
       " 'ballistic',\n",
       " 'missiles',\n",
       " 'possible',\n",
       " 'efforts',\n",
       " 'man',\n",
       " 'noteworthy',\n",
       " 'kalam',\n",
       " 'earned',\n",
       " 'esteemed',\n",
       " 'title',\n",
       " '“the',\n",
       " 'missile',\n",
       " 'man',\n",
       " 'india”',\n",
       " 'government',\n",
       " 'india',\n",
       " 'became',\n",
       " 'aware',\n",
       " 'brilliance',\n",
       " 'man',\n",
       " 'made',\n",
       " 'chief',\n",
       " 'executive',\n",
       " 'integrated',\n",
       " 'guided',\n",
       " 'missiles',\n",
       " 'development',\n",
       " 'program',\n",
       " 'igmdp',\n",
       " 'furthermore',\n",
       " 'program',\n",
       " 'responsible',\n",
       " 'research',\n",
       " 'development',\n",
       " 'missiles',\n",
       " 'achievements',\n",
       " 'distinguished',\n",
       " 'man',\n",
       " 'didn’t',\n",
       " 'stop',\n",
       " 'success',\n",
       " 'come',\n",
       " 'form',\n",
       " 'agni',\n",
       " 'prithvi',\n",
       " 'missiles',\n",
       " 'kalam',\n",
       " 'influential',\n",
       " 'developments',\n",
       " 'missiles',\n",
       " 'tenure',\n",
       " 'igmdp',\n",
       " 'kalam',\n",
       " 'played',\n",
       " 'instrumental',\n",
       " 'role',\n",
       " 'developments',\n",
       " 'missiles',\n",
       " 'like',\n",
       " 'agni',\n",
       " 'prithvi',\n",
       " 'moreover',\n",
       " 'kamal',\n",
       " 'key',\n",
       " 'figure',\n",
       " 'pokhran',\n",
       " 'ii',\n",
       " 'nuclear',\n",
       " 'test']"
      ]
     },
     "execution_count": 6,
     "metadata": {},
     "output_type": "execute_result"
    }
   ],
   "source": [
    "stop_words =  [\"i\", \"me\", \"my\", \"myself\", \"we\", \"our\", \"ours\", \"ourselves\", \"you\", \"your\", \"yours\", \"yourself\",\n",
    "              \"yourselves\", \"he\", \"him\", \"his\", \"himself\", \"she\", \"her\", \"hers\", \"herself\", \"it\", \"its\", \"itself\",\n",
    "              \"they\", \"them\", \"their\", \"theirs\", \"themselves\", \"what\", \"which\", \"who\", \"whom\", \"this\", \"that\", \"these\",\n",
    "              \"those\", \"am\", \"is\", \"are\", \"was\", \"were\", \"be\", \"been\", \"being\", \"have\", \"has\", \"had\", \"having\", \"do\",\n",
    "              \"does\", \"did\", \"doing\", \"a\", \"an\", \"the\", \"and\", \"but\", \"if\", \"or\", \"because\", \"as\", \"until\", \"while\",\n",
    "              \"of\", \"at\", \"by\", \"for\", \"with\", \"about\", \"against\", \"between\", \"into\", \"through\", \"during\", \"before\",\n",
    "              \"after\", \"above\", \"below\", \"to\", \"from\", \"up\", \"down\", \"in\", \"out\", \"on\", \"off\", \"over\", \"under\", \"again\",\n",
    "              \"further\", \"then\", \"once\", \"here\", \"there\", \"when\", \"where\", \"why\", \"how\", \"all\", \"any\", \"both\", \"each\",\n",
    "              \"few\", \"more\", \"most\", \"other\", \"some\", \"such\", \"no\", \"nor\", \"not\", \"only\", \"own\", \"same\", \"so\", \"than\",\n",
    "              \"too\", \"very\", \"s\", \"t\", \"can\", \"will\", \"just\", \"don\", \"should\", \"now\"]\n",
    "final_word = []\n",
    "for word in tokan_word:\n",
    "    if word not in stop_words:\n",
    "        final_word.append(word)\n",
    "len(final_word)\n",
    "final_word"
   ]
  },
  {
   "cell_type": "code",
   "execution_count": 13,
   "id": "1f7b9f00",
   "metadata": {},
   "outputs": [
    {
     "name": "stdout",
     "output_type": "stream",
     "text": [
      "[' happy', ' esteemed', ' adequate', ' average', ' happy']\n"
     ]
    }
   ],
   "source": [
    "#nlp emotion algorithm \n",
    "# check word is in  emotion.txt\n",
    "# add the word in emotion list \n",
    "file = open(\"emotion.txt\",\"r\")\n",
    "\n",
    "emotion_list=[]\n",
    "\n",
    "for line in file:\n",
    "    clear_line = line.replace(\"\\n\",\"\").replace(\",\",\"\").replace(\"'\",\"\").strip()\n",
    "    word,emotion = clear_line.split(\":\")\n",
    "#     print(word,emotion)\n",
    "    if word in final_word:\n",
    "        emotion_list.append(emotion)\n",
    "print(emotion_list)"
   ]
  },
  {
   "cell_type": "code",
   "execution_count": 18,
   "id": "da45c517",
   "metadata": {},
   "outputs": [
    {
     "name": "stdout",
     "output_type": "stream",
     "text": [
      "Counter({' happy': 2, ' esteemed': 1, ' adequate': 1, ' average': 1})\n"
     ]
    }
   ],
   "source": [
    "from collections import Counter\n",
    "w = Counter(emotion_list)\n",
    "print(w)"
   ]
  },
  {
   "cell_type": "code",
   "execution_count": 19,
   "id": "c445f03f",
   "metadata": {},
   "outputs": [],
   "source": [
    "import matplotlib.pyplot as plt"
   ]
  },
  {
   "cell_type": "code",
   "execution_count": 20,
   "id": "7dfb7dde",
   "metadata": {},
   "outputs": [
    {
     "data": {
      "image/png": "[encoded data removed]",
      "text/plain": [
       "<Figure size 432x288 with 1 Axes>"
      ]
     },
     "metadata": {
      "needs_background": "light"
     },
     "output_type": "display_data"
    }
   ],
   "source": [
    "plt.bar(w.keys(),w.values())\n",
    "plt.savefig(\"graph.png\")\n",
    "plt.show()"
   ]
  },
  {
   "cell_type": "code",
   "execution_count": 21,
   "id": "5922e591",
   "metadata": {},
   "outputs": [
    {
     "name": "stdout",
     "output_type": "stream",
     "text": [
      "Collecting GetOldTweets3\n",
      "  Downloading GetOldTweets3-0.0.11-py3-none-any.whl (13 kB)\n",
      "Collecting pyquery>=1.2.10\n",
      "  Downloading pyquery-1.4.3-py3-none-any.whl (22 kB)\n",
      "Requirement already satisfied: lxml>=3.5.0 in c:\\users\\acer\\anaconda3\\lib\\site-packages (from GetOldTweets3) (4.6.3)\n",
      "Collecting cssselect>0.7.9\n",
      "  Using cached cssselect-1.1.0-py2.py3-none-any.whl (16 kB)\n",
      "Installing collected packages: cssselect, pyquery, GetOldTweets3\n",
      "Successfully installed GetOldTweets3-0.0.11 cssselect-1.1.0 pyquery-1.4.3\n"
     ]
    }
   ],
   "source": [
    "!pip install GetOldTweets3"
   ]
  },
  {
   "cell_type": "code",
   "execution_count": null,
   "id": "bf1e11d0",
   "metadata": {},
   "outputs": [],
   "source": []
  }
 ],
 "metadata": {
  "kernelspec": {
   "display_name": "Python 3 (ipykernel)",
   "language": "python",
   "name": "python3"
  },
  "language_info": {
   "codemirror_mode": {
    "name": "ipython",
    "version": 3
   },
   "file_extension": ".py",
   "mimetype": "text/x-python",
   "name": "python",
   "nbconvert_exporter": "python",
   "pygments_lexer": "ipython3",
   "version": "3.9.7"
  }
 },
 "nbformat": 4,
 "nbformat_minor": 5
}
